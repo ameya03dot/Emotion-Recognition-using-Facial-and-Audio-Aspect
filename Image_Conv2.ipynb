{
 "cells": [
  {
   "cell_type": "code",
   "execution_count": 4,
   "metadata": {},
   "outputs": [
    {
     "name": "stdout",
     "output_type": "stream",
     "text": [
      "C:\\Users\\Ameya\\Desktop\\Fear_22\\sentence_1\n",
      "C:\\Users\\Ameya\\Desktop\\Fear_22\\sentence_1\\myvideo_frames0.jpg\n",
      "[30 30 30 ... 29 29 29]\n"
     ]
    }
   ],
   "source": [
    "from PIL import Image\n",
    "import numpy as np\n",
    "import sys\n",
    "import os\n",
    "import csv\n",
    "\n",
    "\n",
    "def createFileList(myDir, format='.jpg'):\n",
    "    fileList = []\n",
    "    print(myDir)\n",
    "    for root, dirs, files in os.walk(myDir, topdown=False):\n",
    "        for name in files:\n",
    "            if name.endswith(format):\n",
    "                fullName = os.path.join(root, name)\n",
    "                fileList.append(fullName)\n",
    "                return fileList\n",
    "mydir='C:\\\\Users\\\\Ameya\\\\Desktop\\\\Fear_22\\\\sentence_1'\n",
    "\n",
    "fileList = createFileList(mydir)\n",
    "\n",
    "for file in fileList:\n",
    "    print(file)\n",
    "    img_file = Image.open(file)\n",
    "    # img_file.show()\n",
    "\n",
    "\n",
    "# get original image parameters...\n",
    "width, height = img_file.size\n",
    "format = img_file.format\n",
    "mode = img_file.mode\n",
    "\n",
    "# Make image Greyscale\n",
    "img_grey = img_file.convert('L')\n",
    "#img_grey.save('result.png')\n",
    "#img_grey.show()\n",
    "\n",
    "# Save Greyscale values\n",
    "value = np.asarray(img_grey.getdata(), dtype=np.int).reshape((img_grey.size[1], img_grey.size[0]))\n",
    "value = value.flatten()\n",
    "print(value)\n",
    "with open(\"C:\\\\Users\\\\Ameya\\\\Desktop\\\\Fear_22\\\\img_pixels.csv\", 'a') as f:\n",
    "    writer = csv.writer(f)\n",
    "    writer.writerow(value)"
   ]
  },
  {
   "cell_type": "code",
   "execution_count": null,
   "metadata": {},
   "outputs": [],
   "source": []
  }
 ],
 "metadata": {
  "kernelspec": {
   "display_name": "Python 3",
   "language": "python",
   "name": "python3"
  },
  "language_info": {
   "codemirror_mode": {
    "name": "ipython",
    "version": 3
   },
   "file_extension": ".py",
   "mimetype": "text/x-python",
   "name": "python",
   "nbconvert_exporter": "python",
   "pygments_lexer": "ipython3",
   "version": "3.8.5"
  }
 },
 "nbformat": 4,
 "nbformat_minor": 4
}
