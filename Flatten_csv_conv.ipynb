{
 "cells": [
  {
   "cell_type": "code",
   "execution_count": null,
   "metadata": {},
   "outputs": [],
   "source": []
  },
  {
   "cell_type": "code",
   "execution_count": 675,
   "metadata": {},
   "outputs": [],
   "source": [
    "import numpy as np\n",
    "import cv2\n",
    "import os\n",
    "\n",
    "IMG_DIR = 'C:\\\\Users\\\\Ameya\\\\Desktop\\\\Emotion Recognition\\\\extract_images_from_video-master\\\\Surprise\\\\Surprise_New\\\\Surprise_22\\\\sentence_3'\n",
    "\n",
    "for img in os.listdir(IMG_DIR):\n",
    "        img_array = cv2.imread(os.path.join(IMG_DIR,img), cv2.IMREAD_GRAYSCALE)\n",
    "\n",
    "        img_array = (img_array.flatten())\n",
    "\n",
    "        img_array  = img_array.reshape(-1, 1).T\n",
    "\n",
    "        print(img_array)\n",
    "\n",
    "        with open('E:\\\\Surprise_csv\\\\output103.csv', 'ab') as f:\n",
    "\n",
    "            np.savetxt(f, img_array, delimiter=\",\")"
   ]
  },
  {
   "cell_type": "code",
   "execution_count": null,
   "metadata": {},
   "outputs": [],
   "source": []
  },
  {
   "cell_type": "code",
   "execution_count": null,
   "metadata": {},
   "outputs": [],
   "source": []
  }
 ],
 "metadata": {
  "kernelspec": {
   "display_name": "Python 3",
   "language": "python",
   "name": "python3"
  },
  "language_info": {
   "codemirror_mode": {
    "name": "ipython",
    "version": 3
   },
   "file_extension": ".py",
   "mimetype": "text/x-python",
   "name": "python",
   "nbconvert_exporter": "python",
   "pygments_lexer": "ipython3",
   "version": "3.8.5"
  }
 },
 "nbformat": 4,
 "nbformat_minor": 4
}
